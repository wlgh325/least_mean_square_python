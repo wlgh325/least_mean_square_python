{
 "cells": [
  {
   "cell_type": "markdown",
   "metadata": {},
   "source": [
    "# 20146703 park jiho"
   ]
  },
  {
   "cell_type": "markdown",
   "metadata": {},
   "source": [
    "# Pattern Recognition Assignment 11"
   ]
  },
  {
   "cell_type": "markdown",
   "metadata": {},
   "source": [
    "# Building a multiple classifier using random vector"
   ]
  },
  {
   "cell_type": "markdown",
   "metadata": {},
   "source": [
    "# Module import"
   ]
  },
  {
   "cell_type": "code",
   "execution_count": 62,
   "metadata": {},
   "outputs": [],
   "source": [
    "import matplotlib.pyplot as plt\n",
    "import numpy as np\n",
    "import random\n",
    "import math\n",
    "import pandas as pd"
   ]
  },
  {
   "cell_type": "markdown",
   "metadata": {},
   "source": [
    "# Initial global variable"
   ]
  },
  {
   "cell_type": "code",
   "execution_count": 63,
   "metadata": {},
   "outputs": [],
   "source": [
    "# image size: 28 by 28\n",
    "# height of the image\n",
    "size_row = 28\n",
    "\n",
    "# width of the image\n",
    "size_col = 28\n",
    "degree = size_row * size_col + 1\n",
    "\n",
    "check_value = 0"
   ]
  },
  {
   "cell_type": "markdown",
   "metadata": {},
   "source": [
    "## make random matrix"
   ]
  },
  {
   "cell_type": "code",
   "execution_count": 64,
   "metadata": {},
   "outputs": [],
   "source": [
    "def make_random_matrix():\n",
    "    k = 28*28\n",
    "    mean = 0\n",
    "    std = 1\n",
    "    random_list = []\n",
    "    \n",
    "    # (degree-1)*k = (28*28)*k 크기의 random matrix 생성\n",
    "    for i in range(k):\n",
    "        for j in range(degree-1):\n",
    "            random_list.append(random.gauss(mean,std))\n",
    "    \n",
    "    \n",
    "    return np.asfarray(random_list).reshape(k, degree-1)"
   ]
  },
  {
   "cell_type": "markdown",
   "metadata": {},
   "source": [
    "# Read mnist data"
   ]
  },
  {
   "cell_type": "markdown",
   "metadata": {},
   "source": [
    "Mnist data set을 읽어서 읽은 data와 label을 반환하는 함수이다\n",
    "\n",
    "train data와 test data를 모두 읽을 수 있다"
   ]
  },
  {
   "cell_type": "code",
   "execution_count": 65,
   "metadata": {},
   "outputs": [],
   "source": [
    "def read_mnist(file):\n",
    "    # 파일 읽기 형식으로 열기 \n",
    "    handle_file = open(file, \"r\")\n",
    "    \n",
    "    # 데이터 한 줄 씩 읽어서 저장 \n",
    "    data = handle_file.readlines()\n",
    "    \n",
    "    \n",
    "    real_label = [item[0] for item in data]\n",
    "    handle_file.close()\n",
    "    \n",
    "    real_label = np.asfarray(real_label)\n",
    "    return data, real_label"
   ]
  },
  {
   "cell_type": "markdown",
   "metadata": {},
   "source": [
    "# Generate y point"
   ]
  },
  {
   "cell_type": "code",
   "execution_count": 66,
   "metadata": {},
   "outputs": [],
   "source": [
    "def make_y_value(A_matrix, degree, num_image, theta):\n",
    "    y = np.zeros(num_image)\n",
    "    y = np.dot(A_matrix, theta)\n",
    "    return y"
   ]
  },
  {
   "cell_type": "markdown",
   "metadata": {},
   "source": [
    "# calculate theta function\n",
    "$$ theta = (A^T A)^{-1}A^T b$$"
   ]
  },
  {
   "cell_type": "code",
   "execution_count": 67,
   "metadata": {},
   "outputs": [],
   "source": [
    "def cal_theta(A_matrix, real_label, num_image, degree):\n",
    "    # calculate theta\n",
    "    temp_matrix = np.dot(A_matrix.T, A_matrix)\n",
    "    \n",
    "\n",
    "    pseudo_inverse = np.dot( np.linalg.pinv(temp_matrix), A_matrix.T )\n",
    "    theta = np.dot(pseudo_inverse, real_label)\n",
    "    \n",
    "    return theta"
   ]
  },
  {
   "cell_type": "markdown",
   "metadata": {},
   "source": [
    "# make A matrix"
   ]
  },
  {
   "cell_type": "markdown",
   "metadata": {},
   "source": [
    "$$A = \\begin{bmatrix}\n",
    "1 & x_1^{(1)} & \\cdots & x_2^{(1)} & x_m^{(1)} \\\\\n",
    "1 & x_1^{(2)} & \\cdots & x_2^{(2)} & x_m^{(2)} \\\\\n",
    "\\vdots & \\vdots & \\cdots & \\vdots & \\vdots\\\\\n",
    "1 & x_1^{(n)} & \\cdots & x_2^{(n)} & x_m^{(n)} \\\\\n",
    "\\end{bmatrix}$$\n",
    "\n",
    "n개의 이미지 데이터, m개의 픽셀(28 by 28)"
   ]
  },
  {
   "cell_type": "code",
   "execution_count": 68,
   "metadata": {},
   "outputs": [],
   "source": [
    "def make_A_matrix(im_vector, degree, num_image):\n",
    "    list_A = []\n",
    "    \n",
    "    for image in im_vector:\n",
    "        list_A.append(1)\n",
    "        temp_vector = np.dot(random_matrix, image)\n",
    "        for value in temp_vector:\n",
    "            list_A.append(value)\n",
    "            \n",
    "    matrix_A = np.array(list_A)\n",
    "    matrix_A = matrix_A.reshape(num_image, degree)\n",
    "    \n",
    "    return matrix_A"
   ]
  },
  {
   "cell_type": "markdown",
   "metadata": {},
   "source": [
    "# add image data into list\n",
    "image data를 parsing하여 list에 하나씩 넣는다"
   ]
  },
  {
   "cell_type": "code",
   "execution_count": 69,
   "metadata": {},
   "outputs": [],
   "source": [
    "def make_image_list(data):\n",
    "    image_list = []\n",
    "    \n",
    "    # image data들을 list에 담기\n",
    "    # 0번째 image data : image_list[0]\n",
    "    # n번쨰 image data : image_list[n-1]\n",
    "    for line in data:\n",
    "        line_data = line.split(',')\n",
    "        im_vector = np.asfarray(line_data[1:])\n",
    "        image_list.append(im_vector)\n",
    "    \n",
    "    return image_list"
   ]
  },
  {
   "cell_type": "markdown",
   "metadata": {},
   "source": [
    "## Check label"
   ]
  },
  {
   "cell_type": "code",
   "execution_count": 70,
   "metadata": {},
   "outputs": [],
   "source": [
    "def check_label(check_value, real_label, num_image):\n",
    "    checked_label = np.zeros(num_image)\n",
    "    \n",
    "    for i, label in enumerate(real_label):\n",
    "        if label == check_value:\n",
    "            checked_label[i] = 1\n",
    "        else:\n",
    "            checked_label[i] = -1\n",
    "    return checked_label"
   ]
  },
  {
   "cell_type": "markdown",
   "metadata": {},
   "source": [
    "# label update function\n",
    "theta값을 통해서 계산된 y 값이 1보다 크면 1로\n",
    "\n",
    "1보다 작으면 -1로 한다"
   ]
  },
  {
   "cell_type": "code",
   "execution_count": 71,
   "metadata": {},
   "outputs": [],
   "source": [
    "def label_update(y_value):\n",
    "    max_index = np.argmax(y_value, axis=0)\n",
    "    return max_index"
   ]
  },
  {
   "cell_type": "markdown",
   "metadata": {},
   "source": [
    "# Calculate accuracy"
   ]
  },
  {
   "cell_type": "markdown",
   "metadata": {},
   "source": [
    "train data를 가지고 구한 theat를 이용하여 예측한 데이터의 accuracy를 구한다"
   ]
  },
  {
   "cell_type": "code",
   "execution_count": 72,
   "metadata": {},
   "outputs": [],
   "source": [
    "def cal_accuracy(predicted_label, real_label):\n",
    "    accuracy_matrix = np.zeros((10,10))\n",
    "    true_positive_rate = 0\n",
    "    error_rate = 0\n",
    "    \n",
    "    for index, label in enumerate(predicted_label):\n",
    "        if label == real_label[index]:\n",
    "            accuracy_matrix[label][label] += 1\n",
    "        else:\n",
    "            accuracy_matrix[int(real_label[index])][label] += 1\n",
    "            \n",
    "    for i in range(10):\n",
    "        true_positive_rate += accuracy_matrix[i][i]\n",
    "    \n",
    "    true_positive_rate = round(true_positive_rate / len(real_label) * 100, 2)\n",
    "    \n",
    "    \n",
    "    for i, row in enumerate(accuracy_matrix):\n",
    "        for j, cell in enumerate(row):\n",
    "            if i != j:\n",
    "                error_rate += cell\n",
    "    error_rate = round(error_rate / len(real_label) * 100, 2)\n",
    "    \n",
    "    \n",
    "    return true_positive_rate, error_rate"
   ]
  },
  {
   "cell_type": "code",
   "execution_count": 73,
   "metadata": {},
   "outputs": [],
   "source": [
    "def cal_accuracy2(predicted_label, real_label): \n",
    "    true_positive = 0 \n",
    "    false_positive = 0 \n",
    "    true_negative = 0 \n",
    "    false_negative = 0\n",
    "    # 0의 개수 \n",
    "    true_num = 0 \n",
    "    for index, label in enumerate(real_label): \n",
    "        if label == 1: \n",
    "            true_num += 1 \n",
    "            if predicted_label[index] == 1:\n",
    "                true_positive += 1\n",
    "            else:\n",
    "                false_negative += 1\n",
    "        else:\n",
    "            if predicted_label[index] == 1:\n",
    "                false_positive += 1\n",
    "            else:\n",
    "                true_negative += 1\n",
    "    # 0이 아닌 것들의 개수\n",
    "    false_num = len(predicted_label)\n",
    "    true_positive /= true_num \n",
    "    false_positive /= false_num \n",
    "    true_negative /= false_num \n",
    "    false_negative /= true_num\n",
    "    \n",
    "    df = pd.DataFrame([[true_positive, false_positive], [true_negative, false_negative]], index=['Positive', 'Negative'], columns=['True', 'False'])\n",
    "    print(df)\n"
   ]
  },
  {
   "cell_type": "markdown",
   "metadata": {},
   "source": [
    "# least mean square for train data\n",
    "\n",
    "train data에 대해서 least mean square를 진행하여 theta 값을 구한다\n",
    "\n",
    "1. train imgae data를 받아온다\n",
    "2. train image data에 해당하는 label을 1과 -1로 바꿔준다\n",
    "3. A matrix를 만든다\n",
    "4. label과 A matrix를 가지고 theta 값을 구한다\n",
    "5. theta를 test data에 사용하기 위해 return 한다"
   ]
  },
  {
   "cell_type": "code",
   "execution_count": 74,
   "metadata": {},
   "outputs": [],
   "source": [
    "def least_mean_square_for_train(check_value):\n",
    "    train_data, real_label = read_mnist('mnist_train.csv')\n",
    "\n",
    "    # data 크기 \n",
    "    num_image = len(train_data)\n",
    "\n",
    "    image_list = make_image_list(train_data)\n",
    "    \n",
    "    checked_label = check_label(check_value, real_label, num_image)\n",
    "    A_matrix = make_A_matrix(image_list, degree, num_image)\n",
    "    theta = cal_theta(A_matrix, checked_label, num_image, degree)\n",
    "\n",
    "    return theta"
   ]
  },
  {
   "cell_type": "markdown",
   "metadata": {},
   "source": [
    "# least mean square for test data\n",
    "test data에 대하여 least mean square를 이용하여 값을 예측한다\n",
    "1. train data를 통해 얻어진 theta 값을 받아온다\n",
    "2. test image data 값을 읽어와서 list에 담는다\n",
    "3. A matrix를 만든다\n",
    "4. (1)에서 받아온 theta값과 (3)에서 만든 A matrix를 이용하여 label 을 예측한다\n",
    "5. 예측한 label을 0(check_value)이면 +1, 아니면 -1로 바꿔준다\n",
    "6. 이렇게 예측한 값을 가지고 accuracy를 구한다"
   ]
  },
  {
   "cell_type": "code",
   "execution_count": 75,
   "metadata": {},
   "outputs": [],
   "source": [
    "def least_mean_square_for_test():    \n",
    "    test_data, test_label = read_mnist('mnist_test.csv')\n",
    "    num_image = len(test_data)\n",
    "    \n",
    "    image_list = make_image_list(test_data)\n",
    "    A_matrix = make_A_matrix(image_list, degree, num_image)\n",
    "    \n",
    "    predicted_y = []\n",
    "    predicted_label = []\n",
    "    \n",
    "    for t in theta:\n",
    "        predicted_y.append(make_y_value(A_matrix, degree, num_image, t))\n",
    "    \n",
    "    predicted_y_matrix = np.asfarray(predicted_y)\n",
    "    predicted_y_matrix = predicted_y_matrix.T\n",
    "    \n",
    "    for predicted_y in predicted_y_matrix:\n",
    "        predicted_label.append(label_update(predicted_y))\n",
    "    \n",
    "    true_positive_rate, error_rate = cal_accuracy(predicted_label, test_label)\n",
    "    \n",
    "    print(\"True Positive rate: \", true_positive_rate, \"%\")\n",
    "    print(\"Error rate: \",error_rate, \"%\")"
   ]
  },
  {
   "cell_type": "code",
   "execution_count": 76,
   "metadata": {},
   "outputs": [
    {
     "name": "stdout",
     "output_type": "stream",
     "text": [
      "0\n",
      "1\n",
      "2\n",
      "3\n",
      "4\n",
      "5\n",
      "6\n",
      "7\n",
      "8\n",
      "9\n"
     ]
    }
   ],
   "source": [
    "check_values = [0,1,2,3,4,5,6,7,8,9]\n",
    "theta = []\n",
    "random_matrix = make_random_matrix()\n",
    "\n",
    "for check_value in check_values:\n",
    "    theta.append(least_mean_square_for_train(check_value))\n",
    "    print(check_value)"
   ]
  },
  {
   "cell_type": "code",
   "execution_count": 77,
   "metadata": {},
   "outputs": [
    {
     "name": "stdout",
     "output_type": "stream",
     "text": [
      "True Positive rate:  86.03 %\n",
      "Error rate:  13.97 %\n"
     ]
    }
   ],
   "source": [
    "least_mean_square_for_test()"
   ]
  },
  {
   "cell_type": "code",
   "execution_count": null,
   "metadata": {},
   "outputs": [],
   "source": []
  }
 ],
 "metadata": {
  "kernelspec": {
   "display_name": "Python 3",
   "language": "python",
   "name": "python3"
  },
  "language_info": {
   "codemirror_mode": {
    "name": "ipython",
    "version": 3
   },
   "file_extension": ".py",
   "mimetype": "text/x-python",
   "name": "python",
   "nbconvert_exporter": "python",
   "pygments_lexer": "ipython3",
   "version": "3.6.7"
  }
 },
 "nbformat": 4,
 "nbformat_minor": 2
}
