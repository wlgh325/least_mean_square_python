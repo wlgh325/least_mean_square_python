{
 "cells": [
  {
   "cell_type": "markdown",
   "metadata": {},
   "source": [
    "# Pattern Recognition Assignment 11"
   ]
  },
  {
   "cell_type": "markdown",
   "metadata": {},
   "source": [
    "# Building a multiple classifier using random vector"
   ]
  },
  {
   "cell_type": "markdown",
   "metadata": {},
   "source": [
    "# Module import"
   ]
  },
  {
   "cell_type": "code",
   "execution_count": 1,
   "metadata": {},
   "outputs": [],
   "source": [
    "import matplotlib.pyplot as plt\n",
    "import numpy as np\n",
    "import random\n",
    "import math\n",
    "import pandas as pd"
   ]
  },
  {
   "cell_type": "markdown",
   "metadata": {},
   "source": [
    "# Initial global variable"
   ]
  },
  {
   "cell_type": "code",
   "execution_count": 30,
   "metadata": {},
   "outputs": [],
   "source": [
    "# image size: 28 by 28\n",
    "# height of the image\n",
    "size_row = 28\n",
    "\n",
    "# width of the image\n",
    "size_col = 28\n",
    "#degree = size_row * size_col + 1\n",
    "degree = size_row * size_col + 1\n",
    "\n",
    "check_value = 0"
   ]
  },
  {
   "cell_type": "markdown",
   "metadata": {},
   "source": [
    "## make random matrix"
   ]
  },
  {
   "cell_type": "markdown",
   "metadata": {},
   "source": [
    "mean=0, std=1인 gauss 분포를 따르는 random value를 generate한다\n",
    "\n",
    "이 generate 된 값을 가지고 Random matrix를 만든다"
   ]
  },
  {
   "cell_type": "code",
   "execution_count": 28,
   "metadata": {},
   "outputs": [],
   "source": [
    "def make_random_matrix():\n",
    "    k = 28*28\n",
    "    mean = 0\n",
    "    std = 1\n",
    "    random_list = []\n",
    "    \n",
    "    # (degree-1)*k = (28*28)*k 크기의 random matrix 생성\n",
    "    for i in range(k):\n",
    "        for j in range(degree-1):\n",
    "            random_list.append(random.gauss(mean,std))\n",
    "    \n",
    "    \n",
    "    return np.asfarray(random_list).reshape(k, degree-1)"
   ]
  },
  {
   "cell_type": "markdown",
   "metadata": {},
   "source": [
    "# Read mnist data"
   ]
  },
  {
   "cell_type": "markdown",
   "metadata": {},
   "source": [
    "Mnist data set을 읽어서 읽은 data와 label을 반환하는 함수이다\n",
    "\n",
    "train data와 test data를 모두 읽을 수 있다"
   ]
  },
  {
   "cell_type": "code",
   "execution_count": 4,
   "metadata": {},
   "outputs": [],
   "source": [
    "def read_mnist(file):\n",
    "    # 파일 읽기 형식으로 열기 \n",
    "    handle_file = open(file, \"r\")\n",
    "    \n",
    "    # 데이터 한 줄 씩 읽어서 저장 \n",
    "    data = handle_file.readlines()\n",
    "    \n",
    "    \n",
    "    real_label = [item[0] for item in data]\n",
    "    handle_file.close()\n",
    "    \n",
    "    real_label = np.asfarray(real_label)\n",
    "    return data, real_label"
   ]
  },
  {
   "cell_type": "markdown",
   "metadata": {},
   "source": [
    "# Generate y point"
   ]
  },
  {
   "cell_type": "code",
   "execution_count": 5,
   "metadata": {},
   "outputs": [],
   "source": [
    "def make_y_value(A_matrix, degree, num_image, theta):\n",
    "    y = np.zeros(num_image)\n",
    "    y = np.dot(A_matrix, theta)\n",
    "    return y"
   ]
  },
  {
   "cell_type": "markdown",
   "metadata": {},
   "source": [
    "# calculate theta function\n",
    "$$ theta = (A^T A)^{-1}A^T b$$"
   ]
  },
  {
   "cell_type": "code",
   "execution_count": 6,
   "metadata": {},
   "outputs": [],
   "source": [
    "def cal_theta(A_matrix, real_label, num_image, degree):\n",
    "    # calculate theta\n",
    "    temp_matrix = np.dot(A_matrix.T, A_matrix)\n",
    "    \n",
    "\n",
    "    pseudo_inverse = np.dot( np.linalg.pinv(temp_matrix), A_matrix.T )\n",
    "    theta = np.dot(pseudo_inverse, real_label)\n",
    "    \n",
    "    return theta"
   ]
  },
  {
   "cell_type": "markdown",
   "metadata": {},
   "source": [
    "# make A matrix"
   ]
  },
  {
   "cell_type": "markdown",
   "metadata": {},
   "source": [
    "$$A = \\begin{bmatrix}\n",
    "1 & r_1^{(1)} & \\cdots & r_2^{(1)} & r_k^{(1)} \\\\\n",
    "1 & r_1^{(2)} & \\cdots & r_2^{(2)} & r_k^{(2)} \\\\\n",
    "\\vdots & \\vdots & \\cdots & \\vdots & \\vdots\\\\\n",
    "1 & r_1^{(n)} & \\cdots & r_2^{(n)} & r_k^{(n)} \\\\\n",
    "\\end{bmatrix}$$\n",
    "\n",
    "n개의 이미지, k개의 random vector\n",
    "\n",
    "random matrix에 image data를 곱해서 나온 값을 가지고 A matrix를 만든다"
   ]
  },
  {
   "cell_type": "code",
   "execution_count": 7,
   "metadata": {},
   "outputs": [],
   "source": [
    "def make_A_matrix(im_vector, degree, num_image):\n",
    "    list_A = []\n",
    "    \n",
    "    for image in im_vector:\n",
    "        list_A.append(1)\n",
    "        temp_vector = np.dot(random_matrix, image)\n",
    "        for value in temp_vector:\n",
    "            list_A.append(value)\n",
    "            \n",
    "    matrix_A = np.array(list_A)\n",
    "    matrix_A = matrix_A.reshape(num_image, degree)\n",
    "    \n",
    "    return matrix_A"
   ]
  },
  {
   "cell_type": "markdown",
   "metadata": {},
   "source": [
    "# add image data into list\n",
    "image data를 parsing하여 list에 하나씩 넣는다"
   ]
  },
  {
   "cell_type": "code",
   "execution_count": 32,
   "metadata": {},
   "outputs": [],
   "source": [
    "def make_image_list(data):\n",
    "    image_list = []\n",
    "    average_list = []\n",
    "    std_list = []\n",
    "    \n",
    "    # image data들을 list에 담기\n",
    "    # 0번째 image data : image_list[0]\n",
    "    # n번쨰 image data : image_list[n-1]\n",
    "    for line in data:\n",
    "        line_data = line.split(',')\n",
    "        im_vector = np.asfarray(line_data[1:])\n",
    "        \n",
    "        ######################\n",
    "        ### whitening data####\n",
    "        ######################\n",
    "        \n",
    "        # calculate mean\n",
    "        average = np.sum(im_vector) / len(im_vector)\n",
    "        average_list.append(average)\n",
    "        \n",
    "        # calculate std\n",
    "        std = np.subtract(im_vector, average)\n",
    "        std = np.square(std)\n",
    "        std = np.sum(std)\n",
    "        \n",
    "        std = np.divide(std, len(im_vector))\n",
    "        std = np.sqrt(std)\n",
    "        std_list.append(std)\n",
    "        \n",
    "        image_list.append(im_vector)\n",
    "    \n",
    "    \n",
    "    image_list = whitening_data(average_list, std_list, image_list)\n",
    "    return image_list"
   ]
  },
  {
   "cell_type": "markdown",
   "metadata": {},
   "source": [
    "# whitening image data"
   ]
  },
  {
   "cell_type": "code",
   "execution_count": 33,
   "metadata": {},
   "outputs": [],
   "source": [
    "def whitening_data(average, std, data):\n",
    "    whitening_data = []\n",
    "    \n",
    "    for i in range(len(data)):\n",
    "        temp_data = data[i] - average[i]\n",
    "        temp_data = temp_data / std[i]\n",
    "        whitening_data.append(temp_data)\n",
    "        \n",
    "    return whitening_data"
   ]
  },
  {
   "cell_type": "markdown",
   "metadata": {},
   "source": [
    "## Check label"
   ]
  },
  {
   "cell_type": "markdown",
   "metadata": {},
   "source": [
    "Classification을 위해서 Label이 check하는 Label과 같으면  1 아니면 -1로 바꿔준다\n",
    "\n",
    "예를 들어 0 digit classification을 한다면 check_value가 0이 되고 이미지들의 라벨이 0이면\n",
    "\n",
    "1로 라벨이 0이 아니면 -1로 바꿔준다."
   ]
  },
  {
   "cell_type": "code",
   "execution_count": 9,
   "metadata": {},
   "outputs": [],
   "source": [
    "def check_label(check_value, real_label, num_image):\n",
    "    checked_label = np.zeros(num_image)\n",
    "    \n",
    "    for i, label in enumerate(real_label):\n",
    "        if label == check_value:\n",
    "            checked_label[i] = 1\n",
    "        else:\n",
    "            checked_label[i] = -1\n",
    "    return checked_label"
   ]
  },
  {
   "cell_type": "markdown",
   "metadata": {},
   "source": [
    "# label update function\n",
    "한 이미지에 대해서 10개의 classifier을 통해서 y값을 계산한다\n",
    "\n",
    "그러면 총 한 이미지에 대해 총 10개의 y값이 나오게 된다\n",
    "\n",
    "이 중에서 가장 큰 값을 가지는 index를 그 이미지의 label로 결정한다\n",
    "\n",
    "이때 argmax를 이용해 결정한다"
   ]
  },
  {
   "cell_type": "code",
   "execution_count": 10,
   "metadata": {},
   "outputs": [],
   "source": [
    "def label_update(y_value):\n",
    "    max_index = np.argmax(y_value, axis=0)\n",
    "    return max_index"
   ]
  },
  {
   "cell_type": "markdown",
   "metadata": {},
   "source": [
    "# Calculate accuracy"
   ]
  },
  {
   "cell_type": "markdown",
   "metadata": {},
   "source": [
    "train데이터를 통해 구한 theta값을 가지고 test data에 대하여\n",
    "\n",
    "y의 값을 예측하였을때 정확도(Accuracy)가 얼마나 되는지 구하는 function이다.\n",
    "\n",
    "accuracy_matrix를 만들어서 accuracy matrix의 주 대각선(Main diagonal)의 값을 모두 더하여 구한게 TP(True Positive)가 되고\n",
    "\n",
    "나머지 값들을 모두 더하여 구한 값이 Error Rate가 된다."
   ]
  },
  {
   "cell_type": "code",
   "execution_count": 16,
   "metadata": {},
   "outputs": [],
   "source": [
    "def cal_accuracy(predicted_label, real_label):\n",
    "    accuracy_matrix = np.zeros((10,10))\n",
    "    true_positive_rate = 0\n",
    "    error_rate = 0\n",
    "    \n",
    "    for index, label in enumerate(predicted_label):\n",
    "        if label == real_label[index]:\n",
    "            accuracy_matrix[label][label] += 1\n",
    "        else:\n",
    "            accuracy_matrix[int(real_label[index])][label] += 1\n",
    "            \n",
    "    for i in range(10):\n",
    "        true_positive_rate += accuracy_matrix[i][i]\n",
    "    \n",
    "    true_positive_rate = round(true_positive_rate / len(real_label) * 100, 2)\n",
    "    \n",
    "    \n",
    "    for i, row in enumerate(accuracy_matrix):\n",
    "        for j, cell in enumerate(row):\n",
    "            if i != j:\n",
    "                error_rate += cell\n",
    "    error_rate = round(error_rate / len(real_label) * 100, 2)\n",
    "    \n",
    "    \n",
    "    return true_positive_rate, error_rate"
   ]
  },
  {
   "cell_type": "markdown",
   "metadata": {},
   "source": [
    "# least mean square for train data\n",
    "\n",
    "train data에 대해서 least mean square를 진행하여 theta 값을 구한다\n",
    "\n",
    "1. train imgae data를 받아온다\n",
    "2. train image data에 해당하는 label을 1과 -1로 바꿔준다\n",
    "3. A matrix를 만든다\n",
    "4. label과 A matrix를 가지고 theta 값을 구한다\n",
    "5. theta를 test data에 사용하기 위해 return 한다"
   ]
  },
  {
   "cell_type": "code",
   "execution_count": 19,
   "metadata": {},
   "outputs": [],
   "source": [
    "def least_mean_square_for_train(check_value):\n",
    "    train_data, real_label = read_mnist('../../mnist_train.csv')\n",
    "\n",
    "    # data 크기 \n",
    "    num_image = len(train_data)\n",
    "\n",
    "    image_list = make_image_list(train_data)\n",
    "    \n",
    "    checked_label = check_label(check_value, real_label, num_image)\n",
    "    A_matrix = make_A_matrix(image_list, degree, num_image)\n",
    "    theta = cal_theta(A_matrix, checked_label, num_image, degree)\n",
    "\n",
    "    return theta"
   ]
  },
  {
   "cell_type": "markdown",
   "metadata": {},
   "source": [
    "# least mean square for test data\n",
    "test data에 대하여 least mean square를 이용하여 값을 예측한다\n",
    "1. train data를 통해 얻어진 theta 값을 받아온다\n",
    "2. test image data 값을 읽어와서 list에 담는다\n",
    "3. A matrix를 만든다\n",
    "4. (1)에서 받아온 theta값과 (3)에서 만든 A matrix를 이용하여 label 을 예측한다\n",
    "5. 예측한 label을 0(check_value)이면 +1, 아니면 -1로 바꿔준다\n",
    "6. 이렇게 예측한 값을 가지고 accuracy를 구한다"
   ]
  },
  {
   "cell_type": "code",
   "execution_count": 20,
   "metadata": {},
   "outputs": [],
   "source": [
    "def least_mean_square_for_test():    \n",
    "    test_data, test_label = read_mnist('../../mnist_test.csv')\n",
    "    num_image = len(test_data)\n",
    "    \n",
    "    image_list = make_image_list(test_data)\n",
    "    A_matrix = make_A_matrix(image_list, degree, num_image)\n",
    "    \n",
    "    predicted_y = []\n",
    "    predicted_label = []\n",
    "    \n",
    "    for t in theta:\n",
    "        predicted_y.append(make_y_value(A_matrix, degree, num_image, t))\n",
    "    \n",
    "    predicted_y_matrix = np.asfarray(predicted_y)\n",
    "    predicted_y_matrix = predicted_y_matrix.T\n",
    "    \n",
    "    for predicted_y in predicted_y_matrix:\n",
    "        predicted_label.append(label_update(predicted_y))\n",
    "    \n",
    "    true_positive_rate, error_rate = cal_accuracy(predicted_label, test_label)\n",
    "    \n",
    "    print(\"True Positive rate: \", true_positive_rate, \"%\")\n",
    "    print(\"Error rate: \",error_rate, \"%\")"
   ]
  },
  {
   "cell_type": "markdown",
   "metadata": {},
   "source": [
    "## Calculate TP and ER for train data)"
   ]
  },
  {
   "cell_type": "markdown",
   "metadata": {},
   "source": [
    "classfier를 가지고 Train Data에 대한 True positive rate와 Error rate를 구한다"
   ]
  },
  {
   "cell_type": "code",
   "execution_count": 15,
   "metadata": {},
   "outputs": [],
   "source": [
    "def cal_train_data():\n",
    "    train_data, train_label = read_mnist('../../mnist_train.csv')\n",
    "    num_image = len(train_data)\n",
    "    \n",
    "    image_list = make_image_list(train_data)\n",
    "    A_matrix = make_A_matrix(image_list, degree, num_image)\n",
    "    \n",
    "    predicted_y = []\n",
    "    predicted_label = []\n",
    "    \n",
    "    for t in theta:\n",
    "        predicted_y.append(make_y_value(A_matrix, degree, num_image, t))\n",
    "    \n",
    "    predicted_y_matrix = np.asfarray(predicted_y)\n",
    "    predicted_y_matrix = predicted_y_matrix.T\n",
    "    \n",
    "    for predicted_y in predicted_y_matrix:\n",
    "        predicted_label.append(label_update(predicted_y))\n",
    "    \n",
    "    true_positive_rate, error_rate = cal_accuracy(predicted_label, train_label)\n",
    "    \n",
    "    print(\"True Positive rate: \", true_positive_rate, \"%\")\n",
    "    print(\"Error rate: \",error_rate, \"%\")"
   ]
  },
  {
   "cell_type": "code",
   "execution_count": 34,
   "metadata": {},
   "outputs": [
    {
     "name": "stdout",
     "output_type": "stream",
     "text": [
      "0\n",
      "1\n",
      "2\n",
      "3\n",
      "4\n",
      "5\n",
      "6\n",
      "7\n",
      "8\n",
      "9\n"
     ]
    }
   ],
   "source": [
    "check_values = [0,1,2,3,4,5,6,7,8,9]\n",
    "theta = []\n",
    "random_matrix = make_random_matrix()\n",
    "\n",
    "for check_value in check_values:\n",
    "    theta.append(least_mean_square_for_train(check_value))\n",
    "    print(check_value)"
   ]
  },
  {
   "cell_type": "markdown",
   "metadata": {},
   "source": [
    "Test data에 대해서 위에서 구한 theta값들을 가지고 classification한다\n",
    "\n",
    "classification한 후 TP값과 Error rate값을 출력한다."
   ]
  },
  {
   "cell_type": "code",
   "execution_count": 35,
   "metadata": {},
   "outputs": [
    {
     "name": "stdout",
     "output_type": "stream",
     "text": [
      "True Positive rate:  86.75 %\n",
      "Error rate:  13.25 %\n"
     ]
    }
   ],
   "source": [
    "least_mean_square_for_test()"
   ]
  },
  {
   "cell_type": "markdown",
   "metadata": {},
   "source": [
    "Train data에 대한 TP와 Error Rate 값을 출력하였다"
   ]
  },
  {
   "cell_type": "code",
   "execution_count": 36,
   "metadata": {},
   "outputs": [
    {
     "name": "stdout",
     "output_type": "stream",
     "text": [
      "True Positive rate:  86.49 %\n",
      "Error rate:  13.51 %\n"
     ]
    }
   ],
   "source": [
    "cal_train_data()"
   ]
  }
 ],
 "metadata": {
  "kernelspec": {
   "display_name": "Python 3",
   "language": "python",
   "name": "python3"
  },
  "language_info": {
   "codemirror_mode": {
    "name": "ipython",
    "version": 3
   },
   "file_extension": ".py",
   "mimetype": "text/x-python",
   "name": "python",
   "nbconvert_exporter": "python",
   "pygments_lexer": "ipython3",
   "version": "3.6.7"
  }
 },
 "nbformat": 4,
 "nbformat_minor": 2
}
